{
 "cells": [
  {
   "cell_type": "code",
   "execution_count": 77,
   "metadata": {},
   "outputs": [],
   "source": [
    "import requests\n",
    "import sys\n",
    "import math\n",
    "import pandas as pd\n",
    "import numpy as np\n",
    "import matplotlib.pyplot as plt\n",
    "import seaborn as sns\n",
    "import ensembl_rest as enr\n",
    "from collections import defaultdict"
   ]
  },
  {
   "cell_type": "code",
   "execution_count": 66,
   "metadata": {},
   "outputs": [],
   "source": [
    "class SeqLoader:\n",
    "    \"\"\"\n",
    "    input:\n",
    "    @GRCh37: bool\n",
    "    \"\"\"\n",
    "    def __init__(self, GRCh37):\n",
    "        if GRCh37:\n",
    "            self.__server = \"http://grch37.rest.ensembl.org\"\n",
    "            self.__ext = \"\"\n",
    "        \n",
    "    def loadSeq(self, gene_id):\n",
    "        self.__ext = \"/sequence/id/{gene_id}?\".format(gene_id = gene_id)\n",
    "        seq = requests.get(self.__server + self.__ext, headers={ 'content-Type' : 'text/plain'})\n",
    "        if not seq.ok:\n",
    "          seq.raise_for_status()\n",
    "          sys.exit()\n",
    "        return seq.text\n",
    "    \n",
    "    def countATGC(self, seq):\n",
    "        \"\"\"\n",
    "        input:\n",
    "        @seq: plain text sequence from loadSeq()\n",
    "        \n",
    "        return:\n",
    "        a list of pertcentages of A, T, G, C and GC\n",
    "        \"\"\"\n",
    "        dicA = defaultdict(int)\n",
    "        dicT = defaultdict(int)\n",
    "        dicG = defaultdict(int)\n",
    "        dicC = defaultdict(int)\n",
    "        seqLen = len(seq)\n",
    "        for char in seq:\n",
    "            if char == 'A':\n",
    "                dicA['A'] = dicA['A'] + 1\n",
    "            elif char == 'T':\n",
    "                dicT['T'] = dicT['T'] + 1\n",
    "            elif char == 'G':\n",
    "                dicG['G'] = dicG['G'] + 1\n",
    "            else:\n",
    "                dicC['C'] = dicC['C'] + 1\n",
    "        ratioA = dicA['A'] / seqLen\n",
    "        ratioT = dicT['T'] / seqLen\n",
    "        ratioG = dicG['G'] / seqLen\n",
    "        ratioC = dicC['C'] / seqLen\n",
    "        ratioGC = ratioG + ratioC\n",
    "        print(ratioA)\n",
    "        print(ratioT)\n",
    "        print(ratioG)\n",
    "        print(ratioC)\n",
    "        print(ratioGC)\n",
    "        return [ratioA, ratioT, ratioG, ratioC, ratioGC]"
   ]
  },
  {
   "cell_type": "code",
   "execution_count": 110,
   "metadata": {},
   "outputs": [],
   "source": [
    "class CGREncoder:\n",
    "    def __init__(self):\n",
    "        self.__kmer_counts = defaultdict(int)\n",
    "        self.__kmer_prob = defaultdict(int)\n",
    "        self.__kmerSize = -1\n",
    "        self.__matrixsize = -1\n",
    "        self.__chaos = None\n",
    "        \n",
    "    def __kmerGenerator(self, seq, k):\n",
    "        \"\"\"\n",
    "        input:\n",
    "        @seq: string, a plain text sequence \n",
    "        @k: a positive integer\n",
    "        \n",
    "        return:\n",
    "        self.__kmer: a dictionary with keys being the kmers, values being the counts of kmers\n",
    "        \"\"\"\n",
    "        print(\"Generating kmer pool\")\n",
    "        size = int(math.sqrt(4 ** k))\n",
    "        self.__matrixsize = size\n",
    "        self.__chaos = np.zeros((size, size), dtype = np.float)\n",
    "        self.__kmerSize = len(seq) - k + 1\n",
    "        for i in range(self.__kmerSize):\n",
    "            self.__kmer_counts[seq[i : i + k]] += 1\n",
    "            \n",
    "        for key, value in self.__kmer_counts.items():\n",
    "            self.__kmer_prob[key] = float(value) / (len(seq) - k + 1)\n",
    "            \n",
    "    def getKmerSize(self):\n",
    "        return self.__kmerSize\n",
    "    \n",
    "    def getKmer(self):\n",
    "        return [self.__kmer_counts, self.__kmer_prob]\n",
    "    \n",
    "    def encoding(self, seq, k):\n",
    "        self.__kmerGenerator(seq, k)\n",
    "        for key, value in self.__kmer_prob.items():\n",
    "            minx = 0\n",
    "            miny = 0\n",
    "            maxx = self.__matrixsize\n",
    "            maxy = self.__matrixsize\n",
    "            charIdx = 0\n",
    "            self.__helper(charIdx, minx, maxx, miny, maxy, key, value)\n",
    "    \n",
    "    def getChaoMatrix(self):\n",
    "        return self.__chaos.copy()\n",
    "    \n",
    "    def __midPoint(self, small, large):\n",
    "        return int(small + (large - small) / 2)\n",
    "    \n",
    "    def __helper(self, charIdx, minx, maxx, miny, maxy, key, value):\n",
    "        if (minx >= maxx or miny >= maxy or charIdx >= len(key)):\n",
    "            idxx = self.__midPoint(minx, maxx)\n",
    "            idxy = self.__midPoint(miny, maxy)\n",
    "            self.__chaos[idxx][idxy] = value\n",
    "            return\n",
    "        #print(key)\n",
    "        char = key[charIdx]\n",
    "        #print(char)\n",
    "        charIdx = charIdx + 1\n",
    "        if char == 'A':\n",
    "            minx = minx\n",
    "            maxx = self.__midPoint(minx, maxx)\n",
    "            \n",
    "        elif char == 'T':\n",
    "            minx = self.__midPoint(minx, maxx)\n",
    "            maxx = maxx\n",
    "                \n",
    "        elif char == 'G':\n",
    "            minx = self.__midPoint(minx, maxx)\n",
    "            maxx = maxx\n",
    "            miny = self.__midPoint(miny, maxy)\n",
    "            maxy = maxy\n",
    "        else:\n",
    "            miny = self.__midPoint(miny, maxy)\n",
    "            maxy = maxy\n",
    "       \n",
    "        self.__helper(charIdx, minx, maxx, miny, maxy, key, value)"
   ]
  },
  {
   "cell_type": "code",
   "execution_count": 72,
   "metadata": {},
   "outputs": [],
   "source": [
    "seq = SeqLoader(True)\n",
    "testSeq = seq.loadSeq('ENSG00000000003')"
   ]
  },
  {
   "cell_type": "code",
   "execution_count": 111,
   "metadata": {},
   "outputs": [
    {
     "name": "stdout",
     "output_type": "stream",
     "text": [
      "Generating kmer pool\n"
     ]
    }
   ],
   "source": [
    "encoder = CGREncoder()\n",
    "encoder.encoding(testSeq, 3)"
   ]
  },
  {
   "cell_type": "code",
   "execution_count": 112,
   "metadata": {},
   "outputs": [],
   "source": [
    "testPool = encoder.getChaoMatrix()"
   ]
  },
  {
   "cell_type": "code",
   "execution_count": 113,
   "metadata": {},
   "outputs": [
    {
     "data": {
      "text/plain": [
       "array([[0.        , 0.        , 0.        , 0.        , 0.03312721,\n",
       "        0.        , 0.        , 0.        ],\n",
       "       [0.        , 0.        , 0.        , 0.        , 0.0225265 ,\n",
       "        0.        , 0.01519435, 0.        ],\n",
       "       [0.        , 0.        , 0.        , 0.        , 0.01810954,\n",
       "        0.        , 0.02164311, 0.0135159 ],\n",
       "       [0.        , 0.        , 0.        , 0.        , 0.02561837,\n",
       "        0.        , 0.01713781, 0.01757951],\n",
       "       [0.        , 0.        , 0.        , 0.        , 0.02128975,\n",
       "        0.        , 0.01925795, 0.01130742],\n",
       "       [0.        , 0.        , 0.        , 0.        , 0.01969965,\n",
       "        0.        , 0.01183746, 0.00300353],\n",
       "       [0.        , 0.        , 0.        , 0.        , 0.02332155,\n",
       "        0.        , 0.01881625, 0.00309187],\n",
       "       [0.        , 0.        , 0.        , 0.        , 0.04372792,\n",
       "        0.        , 0.02473498, 0.00477032]])"
      ]
     },
     "execution_count": 113,
     "metadata": {},
     "output_type": "execute_result"
    }
   ],
   "source": [
    "testPool"
   ]
  },
  {
   "cell_type": "code",
   "execution_count": 114,
   "metadata": {},
   "outputs": [],
   "source": [
    "testKmer = encoder.getKmer()"
   ]
  },
  {
   "cell_type": "code",
   "execution_count": 116,
   "metadata": {},
   "outputs": [],
   "source": [
    "size = encoder.getKmerSize()"
   ]
  },
  {
   "cell_type": "code",
   "execution_count": 117,
   "metadata": {},
   "outputs": [
    {
     "data": {
      "text/plain": [
       "11320"
      ]
     },
     "execution_count": 117,
     "metadata": {},
     "output_type": "execute_result"
    }
   ],
   "source": [
    "size"
   ]
  },
  {
   "cell_type": "code",
   "execution_count": 118,
   "metadata": {},
   "outputs": [
    {
     "data": {
      "text/plain": [
       "0.01174911660777385"
      ]
     },
     "execution_count": 118,
     "metadata": {},
     "output_type": "execute_result"
    }
   ],
   "source": [
    "133/11320"
   ]
  },
  {
   "cell_type": "code",
   "execution_count": 115,
   "metadata": {},
   "outputs": [
    {
     "data": {
      "text/plain": [
       "defaultdict(int,\n",
       "            {'AGC': 133,\n",
       "             'GCT': 152,\n",
       "             'CTC': 170,\n",
       "             'TCT': 226,\n",
       "             'CTT': 251,\n",
       "             'TTC': 238,\n",
       "             'TCA': 187,\n",
       "             'CAG': 206,\n",
       "             'AGT': 226,\n",
       "             'GTA': 192,\n",
       "             'TAG': 194,\n",
       "             'GTT': 241,\n",
       "             'TTT': 495,\n",
       "             'CTG': 224,\n",
       "             'TGA': 213,\n",
       "             'GAA': 218,\n",
       "             'AAC': 153,\n",
       "             'ACA': 177,\n",
       "             'CAT': 161,\n",
       "             'ATC': 113,\n",
       "             'CTA': 131,\n",
       "             'AGA': 245,\n",
       "             'GAC': 102,\n",
       "             'ACG': 39,\n",
       "             'CGG': 49,\n",
       "             'GGT': 163,\n",
       "             'AGG': 199,\n",
       "             'GGA': 158,\n",
       "             'GAT': 150,\n",
       "             'ATG': 181,\n",
       "             'TGT': 280,\n",
       "             'AAT': 255,\n",
       "             'ATA': 205,\n",
       "             'TAA': 241,\n",
       "             'AAG': 223,\n",
       "             'AAA': 375,\n",
       "             'TGC': 174,\n",
       "             'GCA': 166,\n",
       "             'CAA': 172,\n",
       "             'TAT': 223,\n",
       "             'ATT': 290,\n",
       "             'TTG': 280,\n",
       "             'ACT': 194,\n",
       "             'GGG': 174,\n",
       "             'GGC': 135,\n",
       "             'TGG': 208,\n",
       "             'TTA': 264,\n",
       "             'GAG': 180,\n",
       "             'GTG': 190,\n",
       "             'TAC': 134,\n",
       "             'ACC': 123,\n",
       "             'CCT': 204,\n",
       "             'CAC': 144,\n",
       "             'GTC': 98,\n",
       "             'GCC': 116,\n",
       "             'CCC': 128,\n",
       "             'TCC': 152,\n",
       "             'CCA': 153,\n",
       "             'CCG': 34,\n",
       "             'CGA': 34,\n",
       "             'GCG': 43,\n",
       "             'CGC': 35,\n",
       "             'CGT': 52,\n",
       "             'TCG': 54})"
      ]
     },
     "execution_count": 115,
     "metadata": {},
     "output_type": "execute_result"
    }
   ],
   "source": [
    "testKmer[0]"
   ]
  },
  {
   "cell_type": "code",
   "execution_count": 108,
   "metadata": {},
   "outputs": [
    {
     "data": {
      "text/plain": [
       "defaultdict(int,\n",
       "            {'AGC': 0.01174911660777385,\n",
       "             'GCT': 0.01342756183745583,\n",
       "             'CTC': 0.015017667844522967,\n",
       "             'TCT': 0.019964664310954065,\n",
       "             'CTT': 0.022173144876325088,\n",
       "             'TTC': 0.021024734982332156,\n",
       "             'TCA': 0.016519434628975264,\n",
       "             'CAG': 0.018197879858657243,\n",
       "             'AGT': 0.019964664310954065,\n",
       "             'GTA': 0.01696113074204947,\n",
       "             'TAG': 0.01713780918727915,\n",
       "             'GTT': 0.02128975265017668,\n",
       "             'TTT': 0.04372791519434629,\n",
       "             'CTG': 0.019787985865724382,\n",
       "             'TGA': 0.01881625441696113,\n",
       "             'GAA': 0.019257950530035334,\n",
       "             'AAC': 0.013515901060070671,\n",
       "             'ACA': 0.015636042402826855,\n",
       "             'CAT': 0.0142226148409894,\n",
       "             'ATC': 0.009982332155477032,\n",
       "             'CTA': 0.01157243816254417,\n",
       "             'AGA': 0.021643109540636044,\n",
       "             'GAC': 0.00901060070671378,\n",
       "             'ACG': 0.0034452296819787987,\n",
       "             'CGG': 0.004328621908127208,\n",
       "             'GGT': 0.014399293286219082,\n",
       "             'AGG': 0.017579505300353356,\n",
       "             'GGA': 0.013957597173144876,\n",
       "             'GAT': 0.013250883392226149,\n",
       "             'ATG': 0.01598939929328622,\n",
       "             'TGT': 0.024734982332155476,\n",
       "             'AAT': 0.022526501766784453,\n",
       "             'ATA': 0.018109540636042403,\n",
       "             'TAA': 0.02128975265017668,\n",
       "             'AAG': 0.01969964664310954,\n",
       "             'AAA': 0.03312720848056537,\n",
       "             'TGC': 0.015371024734982332,\n",
       "             'GCA': 0.014664310954063604,\n",
       "             'CAA': 0.01519434628975265,\n",
       "             'TAT': 0.01969964664310954,\n",
       "             'ATT': 0.02561837455830389,\n",
       "             'TTG': 0.024734982332155476,\n",
       "             'ACT': 0.01713780918727915,\n",
       "             'GGG': 0.015371024734982332,\n",
       "             'GGC': 0.011925795053003533,\n",
       "             'TGG': 0.018374558303886925,\n",
       "             'TTA': 0.023321554770318022,\n",
       "             'GAG': 0.015901060070671377,\n",
       "             'GTG': 0.01678445229681979,\n",
       "             'TAC': 0.011837455830388692,\n",
       "             'ACC': 0.010865724381625442,\n",
       "             'CCT': 0.01802120141342756,\n",
       "             'CAC': 0.012720848056537103,\n",
       "             'GTC': 0.008657243816254417,\n",
       "             'GCC': 0.010247349823321554,\n",
       "             'CCC': 0.011307420494699646,\n",
       "             'TCC': 0.01342756183745583,\n",
       "             'CCA': 0.013515901060070671,\n",
       "             'CCG': 0.0030035335689045936,\n",
       "             'CGA': 0.0030035335689045936,\n",
       "             'GCG': 0.0037985865724381625,\n",
       "             'CGC': 0.0030918727915194345,\n",
       "             'CGT': 0.004593639575971731,\n",
       "             'TCG': 0.004770318021201414})"
      ]
     },
     "execution_count": 108,
     "metadata": {},
     "output_type": "execute_result"
    }
   ],
   "source": [
    "testKmer[1]"
   ]
  },
  {
   "cell_type": "code",
   "execution_count": null,
   "metadata": {},
   "outputs": [],
   "source": []
  }
 ],
 "metadata": {
  "kernelspec": {
   "display_name": "CONENV",
   "language": "python",
   "name": "conenv"
  },
  "language_info": {
   "codemirror_mode": {
    "name": "ipython",
    "version": 3
   },
   "file_extension": ".py",
   "mimetype": "text/x-python",
   "name": "python",
   "nbconvert_exporter": "python",
   "pygments_lexer": "ipython3",
   "version": "3.7.7"
  }
 },
 "nbformat": 4,
 "nbformat_minor": 4
}
