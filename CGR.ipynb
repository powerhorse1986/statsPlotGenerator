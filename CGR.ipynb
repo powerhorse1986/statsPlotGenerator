{
 "cells": [
  {
   "cell_type": "code",
   "execution_count": 153,
   "metadata": {},
   "outputs": [],
   "source": [
    "import requests\n",
    "import sys\n",
    "import math\n",
    "import pandas as pd\n",
    "import numpy as np\n",
    "import matplotlib.pyplot as plt\n",
    "import seaborn as sns\n",
    "import ensembl_rest as enr\n",
    "import import_ipynb\n",
    "import PlotComparingKallistoWithRSEM\n",
    "from collections import defaultdict"
   ]
  },
  {
   "cell_type": "code",
   "execution_count": 168,
   "metadata": {},
   "outputs": [],
   "source": [
    "class SeqLoader:\n",
    "    \"\"\"\n",
    "    input:\n",
    "    @GRCh37: bool\n",
    "    \"\"\"\n",
    "    def __init__(self, GRCh37 = True):\n",
    "        if GRCh37 == True:\n",
    "            self.__server = \"http://grch37.rest.ensembl.org\"\n",
    "            self.__ext = \"\"\n",
    "            self.__seq = \"\"\n",
    "            # self.__geneID = geneID\n",
    "        \n",
    "    def __loadSeq(self, geneID):\n",
    "        self.__ext = \"/sequence/id/{gene_id}?\".format(gene_id = geneID)\n",
    "        seq = requests.get(self.__server + self.__ext, headers={ 'content-Type' : 'text/plain'})\n",
    "        if not seq.ok:\n",
    "          seq.raise_for_status()\n",
    "          sys.exit()\n",
    "        self.__seq = seq.text\n",
    "    \n",
    "    def getSeq(self, geneID):\n",
    "        self.__loadSeq(geneID)\n",
    "        return self.__seq\n",
    "    \n",
    "    def countATGC(self, seq):\n",
    "        \"\"\"\n",
    "        input:\n",
    "        @seq: plain text sequence from loadSeq()\n",
    "        \n",
    "        return:\n",
    "        a list of pertcentages of A, T, G, C and GC\n",
    "        \"\"\"\n",
    "        dicA = defaultdict(int)\n",
    "        dicT = defaultdict(int)\n",
    "        dicG = defaultdict(int)\n",
    "        dicC = defaultdict(int)\n",
    "        seqLen = len(seq)\n",
    "        for char in seq:\n",
    "            if char == 'A':\n",
    "                dicA['A'] = dicA['A'] + 1\n",
    "            elif char == 'T':\n",
    "                dicT['T'] = dicT['T'] + 1\n",
    "            elif char == 'G':\n",
    "                dicG['G'] = dicG['G'] + 1\n",
    "            else:\n",
    "                dicC['C'] = dicC['C'] + 1\n",
    "        ratioA = dicA['A'] / seqLen\n",
    "        ratioT = dicT['T'] / seqLen\n",
    "        ratioG = dicG['G'] / seqLen\n",
    "        ratioC = dicC['C'] / seqLen\n",
    "        ratioGC = ratioG + ratioC\n",
    "        print(ratioA)\n",
    "        print(ratioT)\n",
    "        print(ratioG)\n",
    "        print(ratioC)\n",
    "        print(ratioGC)\n",
    "        return [ratioA, ratioT, ratioG, ratioC, ratioGC]"
   ]
  },
  {
   "cell_type": "code",
   "execution_count": 183,
   "metadata": {},
   "outputs": [],
   "source": [
    "class CGREncoder:\n",
    "    def __init__(self):\n",
    "        self.__kmer_counts = None\n",
    "        self.__kmer_prob = None\n",
    "        self.__kmerSize = -1\n",
    "        self.__matrixsize = -1\n",
    "        self.__chaos = None\n",
    "        \n",
    "    def __kmerGenerator(self, seq, k):\n",
    "        \"\"\"\n",
    "        input:\n",
    "        @seq: string, a plain text sequence \n",
    "        @k: a positive integer\n",
    "        \n",
    "        return:\n",
    "        self.__kmer: a dictionary with keys being the kmers, values being the counts of kmers\n",
    "        \"\"\"\n",
    "        self.__kmer_counts = defaultdict(int)\n",
    "        self.__kmer_prob = defaultdict(int)\n",
    "        # print(\"Generating kmer pool\")\n",
    "        size = int(math.sqrt(4 ** k))\n",
    "        self.__matrixsize = size\n",
    "        self.__chaos = np.zeros((size, size), dtype = np.float)\n",
    "        self.__kmerSize = len(seq) - k + 1\n",
    "        for i in range(self.__kmerSize):\n",
    "            self.__kmer_counts[seq[i : i + k]] += 1\n",
    "            \n",
    "        for key, value in self.__kmer_counts.items():\n",
    "            self.__kmer_prob[key] = float(value) / (len(seq) - k + 1)\n",
    "            \n",
    "    def getKmerSize(self):\n",
    "        return self.__kmerSize\n",
    "    \n",
    "    def getKmer(self):\n",
    "        return [self.__kmer_counts, self.__kmer_prob]\n",
    "    \n",
    "    def encoding(self, seq, k):\n",
    "        self.__kmerGenerator(seq, k)\n",
    "        for key, value in self.__kmer_prob.items():\n",
    "            minx = 0\n",
    "            miny = 0\n",
    "            maxx = self.__matrixsize - 1\n",
    "            maxy = self.__matrixsize - 1\n",
    "            midx = self.__midPoint(minx, maxx)\n",
    "            midy = self.__midPoint(miny, maxy)\n",
    "            charIdx = 0\n",
    "            self.__helper(charIdx, minx, midx, maxx, miny, midy, maxy, key, value)\n",
    "    \n",
    "    def getChaosMatrix(self):\n",
    "        return self.__chaos.copy()\n",
    "    \n",
    "    def __midPoint(self, small, large):\n",
    "        return int(small + (large - small) / 2)\n",
    "    \n",
    "    def __helper(self, charIdx, minx, midx, maxx, miny, midy, maxy, key, value):\n",
    "        if ((minx == maxx or miny == maxy) or charIdx >= len(key)):\n",
    "            # idxx = self.__midPoint(minx, maxx)\n",
    "            # idxy = self.__midPoint(miny, maxy)\n",
    "            # print(idxy)\n",
    "            # print(idxx)\n",
    "            self.__chaos[minx][miny] = value\n",
    "            return\n",
    "        #print(key)\n",
    "        char = key[charIdx]\n",
    "        #print(char)\n",
    "        charIdx = charIdx + 1\n",
    "        if char == 'A':\n",
    "            minx = minx\n",
    "            maxx += midx\n",
    "            miny = miny\n",
    "            maxy += midy\n",
    "            \n",
    "        elif char == 'T':\n",
    "            minx += midx\n",
    "            maxx = maxx\n",
    "            miny = miny\n",
    "            maxy += midy\n",
    "                \n",
    "        elif char == 'G':\n",
    "            minx += midx\n",
    "            maxx = maxx\n",
    "            miny += midy\n",
    "            maxy = maxy\n",
    "        else:\n",
    "            minx = minx\n",
    "            maxx += midx\n",
    "            miny += midy\n",
    "            maxy = maxy\n",
    "        midx = self.__midPoint(minx, maxx)\n",
    "        midy = self.__midPoint(miny, maxy)\n",
    "       \n",
    "        self.__helper(charIdx, minx, midx, maxx, miny, midy, maxy, key, value)"
   ]
  },
  {
   "cell_type": "code",
   "execution_count": 184,
   "metadata": {},
   "outputs": [],
   "source": [
    "class EncodingTreatMent:\n",
    "    __trtmnt = {'high': pd.read_csv('/home/lima/Project/simulation/Comparision/high.txt', skiprows = 0).values.tolist(),\n",
    "                     'low': pd.read_csv('/home/lima/Project/simulation/Comparision/low.txt', skiprows = 0).values.tolist(),\n",
    "                     'veh': pd.read_csv('/home/lima/Project/simulation/Comparision/veh.txt', skiprows = 0).values.tolist(),\n",
    "                     'pt': pd.read_csv('/home/lima/Project/simulation/Comparision/pt.txt', skiprows = 0).values.tolist()}\n",
    "    \n",
    "    def __init__(self, trtmnt, normalized, cut):\n",
    "        self.__loader = PlotComparingKallistoWithRSEM.DataLoader(trtmnt, normalized)\n",
    "        # self.__kall = self.__loader.getKall()\n",
    "        __temp = self.__loader.getRSEM()\n",
    "        self.__rsem = __temp[cut]\n",
    "        # print(self.__rsem)\n",
    "        self.__genes = list(self.__rsem.index.values)\n",
    "        # print(len(self.__genes))\n",
    "        # self.__cut = cut\n",
    "        self.__samples = self.__trtmnt[trtmnt]\n",
    "        # print(self.__samples)\n",
    "        self.__encoder = CGREncoder()\n",
    "        self.__loader = SeqLoader()\n",
    "        self.__result = {}\n",
    "    \n",
    "    def convert(self, k):\n",
    "        for sample in self.__samples:\n",
    "            __tmpDF = self.__rsem[sample]\n",
    "            __tmpDict = {}\n",
    "            for index in range(len(__tmpDF)):\n",
    "                __gene = self.__genes[index]\n",
    "                __tmpSeq = self.__loader.getSeq(__gene)\n",
    "                self.__encoder.encoding(__gene, k)\n",
    "                __tmpMatrix = self.__encoder.getChaosMatrix()\n",
    "                __tmpMatrix = __tmpMatrix.reshape(1, 4 ** k)\n",
    "                __tmpList = __tmpMatrix.tolist()\n",
    "                __tmpDict[__gene]: __tmpList\n",
    "            self.__result[sample]: __tmpDict\n",
    "                    \n",
    "    def getConvertedGroup(self):\n",
    "        return self.__result"
   ]
  },
  {
   "cell_type": "code",
   "execution_count": 185,
   "metadata": {},
   "outputs": [],
   "source": [
    "encoding = EncodingTreatMent('high', True, 5)\n",
    "#encoding.convert(2)"
   ]
  },
  {
   "cell_type": "code",
   "execution_count": null,
   "metadata": {},
   "outputs": [],
   "source": [
    "encoding.convert(2)"
   ]
  },
  {
   "cell_type": "code",
   "execution_count": 45,
   "metadata": {},
   "outputs": [],
   "source": [
    "loader = SeqLoader(True, 'ENSG00000000419')\n",
    "seq = loader.getSeq()"
   ]
  },
  {
   "cell_type": "code",
   "execution_count": 93,
   "metadata": {},
   "outputs": [
    {
     "name": "stdout",
     "output_type": "stream",
     "text": [
      "Generating kmer pool\n"
     ]
    }
   ],
   "source": [
    "encoder = CGREncoder()\n",
    "encoder.encoding(seq, 2)\n",
    "twoMerMatrix = encoder.getChaoMatrix()"
   ]
  },
  {
   "cell_type": "code",
   "execution_count": 137,
   "metadata": {},
   "outputs": [
    {
     "data": {
      "text/plain": [
       "<matplotlib.image.AxesImage at 0x7feac7156b10>"
      ]
     },
     "execution_count": 137,
     "metadata": {},
     "output_type": "execute_result"
    },
    {
     "data": {
      "image/png": "[encoded data removed]",
      "text/plain": [
       "<Figure size 432x288 with 1 Axes>"
      ]
     },
     "metadata": {
      "needs_background": "light"
     },
     "output_type": "display_data"
    }
   ],
   "source": [
    "plt.imshow(twoMerMatrix, cmap = 'gist_rainbow', interpolation = 'nearest')"
   ]
  },
  {
   "cell_type": "code",
   "execution_count": 148,
   "metadata": {},
   "outputs": [
    {
     "data": {
      "text/plain": [
       "<matplotlib.image.AxesImage at 0x7feac6ea5ed0>"
      ]
     },
     "execution_count": 148,
     "metadata": {},
     "output_type": "execute_result"
    },
    {
     "data": {
      "image/png": "[encoded data removed]",
      "text/plain": [
       "<Figure size 432x288 with 1 Axes>"
      ]
     },
     "metadata": {
      "needs_background": "light"
     },
     "output_type": "display_data"
    }
   ],
   "source": [
    "tenCounts = twoMerMatrix.copy()\n",
    "tenCounts = tenCounts * 100\n",
    "plt.imshow(tenCounts, cmap = 'gist_rainbow', interpolation = 'nearest')"
   ]
  },
  {
   "cell_type": "code",
   "execution_count": 149,
   "metadata": {},
   "outputs": [
    {
     "data": {
      "text/plain": [
       "array([[ 9.97973658,  6.31965552,  4.67747383,  4.56349206],\n",
       "       [ 7.20618034,  5.96926714,  5.27693347,  4.24265451],\n",
       "       [ 7.72965214,  6.61938534,  7.08797703,  1.25802094],\n",
       "       [10.7311719 ,  5.59354948,  7.45947315,  5.28537656]])"
      ]
     },
     "execution_count": 149,
     "metadata": {},
     "output_type": "execute_result"
    }
   ],
   "source": [
    "tenCounts"
   ]
  },
  {
   "cell_type": "code",
   "execution_count": 141,
   "metadata": {},
   "outputs": [
    {
     "data": {
      "text/plain": [
       "<matplotlib.image.AxesImage at 0x7feac6f8cb50>"
      ]
     },
     "execution_count": 141,
     "metadata": {},
     "output_type": "execute_result"
    },
    {
     "data": {
      "image/png": "[encoded data removed]",
      "text/plain": [
       "<Figure size 432x288 with 1 Axes>"
      ]
     },
     "metadata": {
      "needs_background": "light"
     },
     "output_type": "display_data"
    }
   ],
   "source": [
    "twelveCounts = twoMerMatrix.copy() * 12\n",
    "plt.imshow(twelveCounts, cmap = 'gist_rainbow', interpolation = 'nearest')"
   ]
  },
  {
   "cell_type": "code",
   "execution_count": 133,
   "metadata": {},
   "outputs": [
    {
     "data": {
      "text/plain": [
       "array([[[0.99797366, 0.        , 0.        ],\n",
       "        [0.63196555, 0.        , 0.        ],\n",
       "        [0.46774738, 0.        , 0.        ],\n",
       "        [0.45634921, 0.        , 0.        ]],\n",
       "\n",
       "       [[0.72061803, 0.        , 0.        ],\n",
       "        [0.59692671, 0.        , 0.        ],\n",
       "        [0.52769335, 0.        , 0.        ],\n",
       "        [0.42426545, 0.        , 0.        ]],\n",
       "\n",
       "       [[0.77296521, 0.        , 0.        ],\n",
       "        [0.66193853, 0.        , 0.        ],\n",
       "        [0.7087977 , 0.        , 0.        ],\n",
       "        [0.12580209, 0.        , 0.        ]],\n",
       "\n",
       "       [[1.07311719, 0.        , 0.        ],\n",
       "        [0.55935495, 0.        , 0.        ],\n",
       "        [0.74594732, 0.        , 0.        ],\n",
       "        [0.52853766, 0.        , 0.        ]]])"
      ]
     },
     "execution_count": 133,
     "metadata": {},
     "output_type": "execute_result"
    }
   ],
   "source": [
    "a"
   ]
  },
  {
   "cell_type": "code",
   "execution_count": 134,
   "metadata": {},
   "outputs": [
    {
     "name": "stderr",
     "output_type": "stream",
     "text": [
      "Clipping input data to the valid range for imshow with RGB data ([0..1] for floats or [0..255] for integers).\n"
     ]
    },
    {
     "data": {
      "text/plain": [
       "<matplotlib.image.AxesImage at 0x7feac7293f90>"
      ]
     },
     "execution_count": 134,
     "metadata": {},
     "output_type": "execute_result"
    },
    {
     "data": {
      "image/png": "[encoded data removed]",
      "text/plain": [
       "<Figure size 432x288 with 1 Axes>"
      ]
     },
     "metadata": {
      "needs_background": "light"
     },
     "output_type": "display_data"
    }
   ],
   "source": [
    "plt.imshow(a, interpolation = 'nearest')"
   ]
  },
  {
   "cell_type": "code",
   "execution_count": 121,
   "metadata": {},
   "outputs": [
    {
     "data": {
      "text/plain": [
       "array([[[0.6966359 , 0.24318294, 0.63001438],\n",
       "        [0.33406548, 0.11475653, 0.16019805],\n",
       "        [0.03456886, 0.77926653, 0.40769478],\n",
       "        [0.61271538, 0.09698737, 0.50692309]],\n",
       "\n",
       "       [[0.13275995, 0.02130135, 0.4684711 ],\n",
       "        [0.29340231, 0.8066627 , 0.98007332],\n",
       "        [0.72138012, 0.04690557, 0.22317861],\n",
       "        [0.64838108, 0.69015447, 0.97602366]],\n",
       "\n",
       "       [[0.52543238, 0.39847798, 0.76298772],\n",
       "        [0.56725618, 0.71021638, 0.64374852],\n",
       "        [0.03524271, 0.58862015, 0.86654822],\n",
       "        [0.06045062, 0.27024642, 0.63652811]],\n",
       "\n",
       "       [[0.80746728, 0.73535455, 0.14714728],\n",
       "        [0.7868474 , 0.21944319, 0.82687524],\n",
       "        [0.78372735, 0.89403382, 0.51150047],\n",
       "        [0.72283021, 0.5960279 , 0.28812859]]])"
      ]
     },
     "execution_count": 121,
     "metadata": {},
     "output_type": "execute_result"
    }
   ],
   "source": [
    "r = np.random.random((4, 4, 3))\n",
    "r"
   ]
  },
  {
   "cell_type": "code",
   "execution_count": 125,
   "metadata": {},
   "outputs": [
    {
     "data": {
      "text/plain": [
       "<matplotlib.image.AxesImage at 0x7feac73457d0>"
      ]
     },
     "execution_count": 125,
     "metadata": {},
     "output_type": "execute_result"
    },
    {
     "data": {
      "image/png": "[encoded data removed]",
      "text/plain": [
       "<Figure size 432x288 with 1 Axes>"
      ]
     },
     "metadata": {
      "needs_background": "light"
     },
     "output_type": "display_data"
    }
   ],
   "source": [
    "r[:, :, [1, 2]] = 0\n",
    "plt.imshow(r, interpolation = 'nearest')"
   ]
  },
  {
   "cell_type": "code",
   "execution_count": 126,
   "metadata": {},
   "outputs": [],
   "source": [
    "r[:, :, [1, 2]] = 0"
   ]
  },
  {
   "cell_type": "code",
   "execution_count": 127,
   "metadata": {},
   "outputs": [
    {
     "data": {
      "text/plain": [
       "array([[[0.6966359 , 0.        , 0.        ],\n",
       "        [0.33406548, 0.        , 0.        ],\n",
       "        [0.03456886, 0.        , 0.        ],\n",
       "        [0.61271538, 0.        , 0.        ]],\n",
       "\n",
       "       [[0.13275995, 0.        , 0.        ],\n",
       "        [0.29340231, 0.        , 0.        ],\n",
       "        [0.72138012, 0.        , 0.        ],\n",
       "        [0.64838108, 0.        , 0.        ]],\n",
       "\n",
       "       [[0.52543238, 0.        , 0.        ],\n",
       "        [0.56725618, 0.        , 0.        ],\n",
       "        [0.03524271, 0.        , 0.        ],\n",
       "        [0.06045062, 0.        , 0.        ]],\n",
       "\n",
       "       [[0.80746728, 0.        , 0.        ],\n",
       "        [0.7868474 , 0.        , 0.        ],\n",
       "        [0.78372735, 0.        , 0.        ],\n",
       "        [0.72283021, 0.        , 0.        ]]])"
      ]
     },
     "execution_count": 127,
     "metadata": {},
     "output_type": "execute_result"
    }
   ],
   "source": [
    "r"
   ]
  },
  {
   "cell_type": "code",
   "execution_count": null,
   "metadata": {},
   "outputs": [],
   "source": []
  }
 ],
 "metadata": {
  "kernelspec": {
   "display_name": "CONENV",
   "language": "python",
   "name": "conenv"
  },
  "language_info": {
   "codemirror_mode": {
    "name": "ipython",
    "version": 3
   },
   "file_extension": ".py",
   "mimetype": "text/x-python",
   "name": "python",
   "nbconvert_exporter": "python",
   "pygments_lexer": "ipython3",
   "version": "3.7.6"
  }
 },
 "nbformat": 4,
 "nbformat_minor": 4
}
